{
  "nbformat": 4,
  "nbformat_minor": 0,
  "metadata": {
    "colab": {
      "provenance": [],
      "authorship_tag": "ABX9TyNf0cdndPb1OlE4YBE7Xq8+",
      "include_colab_link": true
    },
    "kernelspec": {
      "name": "python3",
      "display_name": "Python 3"
    },
    "language_info": {
      "name": "python"
    }
  },
  "cells": [
    {
      "cell_type": "markdown",
      "metadata": {
        "id": "view-in-github",
        "colab_type": "text"
      },
      "source": [
        "<a href=\"https://colab.research.google.com/github/ydmatsd/funbgcex-colab/blob/main/funbgcex-colab/FunBGCeX.ipynb\" target=\"_parent\"><img src=\"https://colab.research.google.com/assets/colab-badge.svg\" alt=\"Open In Colab\"/></a>"
      ]
    },
    {
      "cell_type": "markdown",
      "source": [
        "FunBGCeX"
      ],
      "metadata": {
        "id": "K2KgE-a8bg6x"
      }
    },
    {
      "cell_type": "code",
      "source": [
        "from google.colab import drive\n",
        "drive.mount('/content/drive')\n"
      ],
      "metadata": {
        "colab": {
          "base_uri": "https://localhost:8080/"
        },
        "id": "PJaon7JnwnWS",
        "outputId": "f0000937-bb76-4116-fff7-90018ff36284"
      },
      "execution_count": null,
      "outputs": [
        {
          "output_type": "stream",
          "name": "stdout",
          "text": [
            "Drive already mounted at /content/drive; to attempt to forcibly remount, call drive.mount(\"/content/drive\", force_remount=True).\n"
          ]
        }
      ]
    },
    {
      "cell_type": "code",
      "source": [
        "#@title Provide information for BGC extraction, and then hit `Runtime` -> `Run all`\n",
        "\n",
        "gbk_dir = \"/content/drive/MyDrive/gbk_dir\" #@param {type:\"string\"}\n",
        "mode = \"pfam\" #@param [\"all\", \"target\", \"pfam\"]\n",
        "fasta = \"\" #@param {type:\"string\"}\n",
        "pfam = \"Pyr4\" #@param ['2-Hacid_dh', '2-Hacid_dh_C', '2OG-FeII_Oxy', '2OG-FeII_Oxy_2', '2OG-FeII_Oxy_3', '2OG-Fe_Oxy_2', '3Beta_HSD', '3HCDH', '3HCDH_N', '4HBT', '4HBT_2', '4HBT_3', 'AA-adenyl-dom', 'AAA_16', 'AAA_19', 'AAA_21', 'AAA_22', 'AAA_23', 'AAA_25', 'AAA_29', 'AAA_30', 'AAA_33', 'AAT', 'AATase', 'AA_kinase', 'AA_permease', 'AA_permease_2', 'ABA3', 'ABC1', 'ABC2_membrane', 'ABC2_membrane_3', 'ABC2_membrane_7', 'ABC_ATPase', 'ABC_membrane', 'ABC_tran', 'ABC_trans_N', 'ABM', 'ACAS_N', 'ACC_central', 'ACPS', 'ACP_PCP', 'ACP_syn_III_C', 'ACT', 'ACT_7', 'ADC', 'ADH_N', 'ADH_N_2', 'ADH_zinc_N', 'ADH_zinc_N_2', 'ADP_ribosyl_GH', 'ADSL_C', 'AIG2_2', 'APH', 'ATEG_03636', 'ATP-grasp', 'ATP-grasp_4', 'ATP-synt_ab', 'ATP-synt_ab_N', 'ATP11', 'ATPgrasp_N', 'ATPgrasp_Ter', 'AXE1', 'Aa_trans', 'Abhydrolase_1', 'Abhydrolase_2', 'Abhydrolase_3', 'Abhydrolase_6', 'Acetyltransf_3', 'Acetyltransf_7', 'Acetyltransf_8', 'Aconitase', 'Aconitase_C', 'Acyl-CoA_dh_1', 'Acyl-CoA_dh_2', 'Acyl-CoA_dh_M', 'Acyl-CoA_dh_N', 'Acyl_transf_1', 'Acyl_transf_3', 'AflR', 'Aldedh', 'Aldo_ket_red', 'Aldolase_II', 'Aldose_epim', 'Alpha-amylase', 'Amidase', 'Amidohydro_1', 'Amidohydro_2', 'Amidohydro_3', 'Amino_oxidase', 'Aminotran_1_2', 'Aminotran_3', 'Aminotran_4', 'Aminotran_5', 'Ank', 'AnkA', 'Ank_2', 'Ank_3', 'Ank_4', 'Ank_5', 'Anth_synt_I_N', 'Anthrone_oxy', 'ApbA', 'ApbA_C', 'AsR5', 'AsR6', 'Asn_synthase', 'Asp', 'Asp_Glu_race', 'Asp_aminotransf', 'AstC', 'AtaL', 'AtnE', 'BAAT_C', 'BBE', 'BD-FAE', 'Bac_luciferase', 'Beta-lactamase', 'Beta_elim_lyase', 'BfL6', 'BfL8', 'Biotin_carb_C', 'Biotin_carb_N', 'Biotin_lipoyl', 'CBM-like', 'CBS', 'CMAS', 'COesterase', 'CPSase_L_D2', 'CPSase_L_D3', 'CalD', 'Caps_synth', 'Carboxyl_trans', 'Carn_acyltransf', 'Catalase-rel', 'Catalase', 'CghF', 'Chal_sti_synt_C', 'Chal_sti_synt_N', 'Chlorophyllase2', 'Chorismate_bind', 'Citrate_synt', 'Clz3', 'Clz7', 'CoA_transf_3', 'Cofilin_ADF', 'Condensation', 'CpaE', 'CtvD', 'Cu-oxidase', 'Cu-oxidase_2', 'Cu-oxidase_3', 'Cu_amine_oxid', 'Cupin_2', 'Cys_Met_Meta_PP', 'Cyt-b5', 'DAHP_synth_1', 'DAO', 'DDE_1', 'DDE_3', 'DHDPS', 'DIOX_N', 'DIT1_PvcA', 'DJ-1_PfpI', 'DLH', 'DUF1295', 'DUF1479', 'DUF1729', 'DUF1749', 'DUF1752', 'DUF1776', 'DUF1965', 'DUF1993', 'DUF2306', 'DUF2334', 'DUF2470', 'DUF2784', 'DUF3176', 'DUF3237', 'DUF3425', 'DUF3471', 'DUF4149', 'DUF4185', 'DUF4188', 'DUF4267', 'DUF4385', 'DUF4413', 'DUF5519', 'DUF6534', 'DUF6570', 'DUF659', 'DUF87', 'Dabb', 'Dala_Dala_lig_C', 'Dimer_Tnp_hAT', 'Dimerisation', 'Dimerisation2', 'Dynamin_N', 'Dyp_perox', 'ECH_1', 'ECH_2', 'EHN', 'ERG4_ERG24', 'EamA', 'EcKL', 'EcdJ', 'EfHP', 'ElcH', 'Epimerase', 'EqxR', 'Esterase', 'EthD', 'F420_oxidored', 'F5_F8_type_C', 'FAA_hydrolase', 'FAD_binding_1', 'FAD_binding_2', 'FAD_binding_3', 'FAD_binding_4', 'FAD_binding_6', 'FAD_oxidored', 'FAE1_CUT1_RppA', 'FAS_I_H', 'FAS_N', 'FAS_meander', 'FA_hydroxylase', 'FMN_dh', 'FMN_red', 'FMO-like', 'FPSE_09189', 'FR47', 'FSH1', 'Fas_alpha_ACP', 'Fasciclin', 'Fe-ADH', 'Fe-ADH_2', 'Ferric_reduct', 'FhuF', 'Flavodoxin_1', 'Flavodoxin_2', 'Fn3-like', 'FncF', 'FolB', 'FrsA-like', 'FrzJ', 'Fsa2', 'FscB', 'FtsK_SpoIIIE', 'Fungal_trans', 'Fungal_trans_2', 'GATase', 'GATase_6', 'GATase_7', 'GBBH-like_N', 'GDP_Man_Dehyd', 'GFO_IDH_MocA', 'GFO_IDH_MocA_C', 'GGPS', 'GH3', 'GH43_C2', 'GIDA', 'GMC_oxred_C', 'GMC_oxred_N', 'GO-like_E_set', 'GST_C', 'GST_C_2', 'GST_C_3', 'GST_C_5', 'GST_N', 'GST_N_2', 'GST_N_3', 'GST_N_4', 'GTP_cyclohydroI', 'G_glu_transpept', 'GliK', 'GliN', 'Glu_dehyd_C', 'Gly_transf_sug', 'Glyco_hydro_11', 'Glyco_hydro_3', 'Glyco_hydro_31', 'Glyco_hydro_3_C', 'Glyco_hydro_43', 'Glyco_hydro_cc', 'Glyco_transf_28', 'Glyoxal_oxid_N', 'Glyoxalase', 'Glyoxalase_3', 'Glyoxalase_4', 'Glyoxalase_6', 'Gp_dh_C', 'Gp_dh_N', 'Gpr1_Fun34_YaaH', 'GsfR1', 'HAD_2', 'HI0933_like', 'HLH', 'HMG-CoA_red', 'HMGL-like', 'HMG_CoA_synt_C', 'HMG_CoA_synt_N', 'HPIH', 'HSP20', 'HTH_51', 'HTH_Tnp_Tc5', 'HTH_psq', 'HbpS-like', 'Helitron_like_N', 'Helo_like_N', 'Hemerythrin', 'Hemocyanin_C', 'Hemocyanin_M', 'Hexapep', 'HimD', 'Histone', 'Histone_H2A_C', 'Homeobox_KN', 'Homeodomain', 'Homoserine_dh', 'HpcH_HpaI', 'Hydrolase', 'Hydrolase_4', 'Hydrolase_like', 'ICMT', 'IDO', 'ILVD_EDD', 'IMPDH', 'IPPT', 'IPT', 'Iso_dh', 'Isochorismatase', 'IucA_IucC', 'Kdo', 'Kelch_1', 'Kelch_2', 'Kelch_3', 'Kelch_4', 'Kelch_6', 'LCM', 'LIP', 'Lactamase_B', 'Lactamase_B_2', 'Lactamase_B_3', 'LcsT', 'Lipocalin_5', 'Lipocalin_9', 'LolU', 'LtmS', 'Lumazine_bd_2', 'Lyase_1', 'Lyase_aromatic', 'Lycopene_cycl', 'Lys_Orn_oxgnase', 'Lysine_decarbox', 'M20_dimer', 'MARVEL', 'MBOAT_2', 'MFS_1', 'MFS_1_like', 'MFS_2', 'MFS_4', 'MFS_5', 'MMR_HSR1', 'MPAB_Lcp_cat', 'MTS', 'MULE', 'MafB19-deam', 'MaoC_dehydrat_N', 'MaoC_dehydratas', 'MdpA', 'MetW', 'Methyltransf_10', 'Methyltransf_11', 'Methyltransf_12', 'Methyltransf_16', 'Methyltransf_2', 'Methyltransf_21', 'Methyltransf_23', 'Methyltransf_24', 'Methyltransf_25', 'Methyltransf_28', 'Methyltransf_3', 'Methyltransf_31', 'Methyltransf_32', 'Methyltransf_33', 'Methyltransf_4', 'Methyltransf_7', 'Methyltransf_9', 'Mito_carr', 'MmgE_PrpD', 'MmgE_PrpD_C', 'MscL', 'Myb_DNA-bind_6', 'Myb_DNA-bind_7', 'Myb_DNA-binding', 'NACHT', 'NAD_binding_1', 'NAD_binding_10', 'NAD_binding_2', 'NAD_binding_3', 'NAD_binding_4', 'NAD_binding_6', 'NAD_binding_8', 'NAD_binding_9', 'NMO', 'NRPS_C', 'NRPS_CT', 'NRPS_E', 'NRPS_term_dom', 'Nitroreductase', 'NmrA', 'NnrU', 'NodS', 'NtCtMGAM_N', 'NvfI', 'O-FucT', 'OATP', 'OPT', 'OphC', 'Orn_Arg_deC_N', 'Orn_DAP_Arg_deC', 'OtaR1', 'Oxidored_FMN', 'Oxysterol_BP', 'P5CR_dimer', 'PAP2_3', 'PBP', 'PCMT', 'PDR_CDR', 'PEMT', 'PEP_mutase', 'PHM7_cyt', 'PIF1', 'PIGO_PIGG', 'PKS_AT', 'PKS_KS', 'PKS_NRPS_MT', 'PSDC', 'PS_Dcarbxylase', 'PTR2', 'P_proprotein', 'PatF', 'PatJ', 'Patched', 'PaxC', 'PbcA', 'Pec_lyase', 'PenF', 'Peptidase_M19', 'Peptidase_M20', 'Peptidase_M24', 'Peptidase_M3', 'Peptidase_S10', 'Peptidase_S15', 'Peptidase_S28', 'Peptidase_S41', 'Peptidase_S8', 'Peptidase_S9', 'Peptidase_S9_N', 'Peroxidase_2', 'Phe_hydrox_dim', 'PhomB', 'Phosphodiest', 'PhyH', 'Pkinase', 'Polyketide_cyc2', 'Polysacc_deac_1', 'Polysacc_synt_2', 'Prefoldin', 'Prenyltrans', 'Pribosyltran', 'Pro_isomerase', 'Proteasome', 'PrpF', 'PydY', 'Pyr4', 'Pyr_redox', 'Pyr_redox_2', 'Pyr_redox_3', 'Pyridoxal_deC', 'Questin_oxidase', 'RSN1_7TM', 'RSN1_TM', 'RTA1', 'RmlD_sub_bind', 'RsgA_GTPase', 'Rua1_C', 'SAT2', 'SET', 'SGL', 'SMC_N', 'SQHop_cyclase_C', 'SQHop_cyclase_N', 'SQS_PSY', 'Sacchrp_dh_NADP', 'Say1_Mug180', 'Scytalone_dh', 'Sdh_cyt', 'SdnJ', 'Semialdhyde_dh', 'Shikimate_DH', 'SmbD', 'SnoaL', 'SnoaL_2', 'SnoaL_4', 'Spd14', 'SrdD', 'Steroid_dh', 'Sterol-sensing', 'Sterol_MT_C', 'Str_synth', 'Sugar_tr', 'Sulfotransfer_4', 'T2SSE', 'TFIIE_alpha', 'TIM', 'TPMT', 'TPP_enzyme_C', 'TPP_enzyme_M', 'TPP_enzyme_N', 'TPR_2', 'TP_methylase', 'TRAM1', 'TRAM_LAG1_CLN8', 'TRI12', 'TRI5', 'TRI9', 'Tannase', 'TauD', 'TdiC', 'Terpene_syn_C_2', 'Terpene_synth_C', 'Thi4', 'Thioesterase', 'Thiolase_N', 'Tmemb_14', 'TqaK', 'Transferase', 'Transketolase_C', 'Transketolase_N', 'Transp_cyt_pur', 'Tri14', 'Tri3', 'Tri6', 'Trp_DMAT', 'Trp_halogenase', 'Trt14', 'Trt5', 'Trypsin', 'Trypsin_2', 'TwmC', 'Tyrosinase', 'UDPGT', 'UNC-93', 'UbiA_PT', 'UbiA_TC', 'Ubie_methyltran', 'UstYa', 'VicY', 'VidS', 'VrtF', 'WD40', 'XenC', 'XenD', 'YCII', 'Zn_clus', 'adh_short', 'adh_short_C2', 'bZIP_1', 'dCMP_cyt_deam_1', 'fPKS_DH', 'fPKS_ER', 'fPKS_KR', 'fPKS_PT', 'fPKS_R', 'fPKS_TH', 'fn3_3', 'p450', 'peroxidase', 'tRNA-synt_1c', 'tRNA-synt_1c_C', 'tRNA-synt_2', 'tRNA-synt_2c', 'tRNA-synt_2d', 'tRNA_anti-codon', 'zf-C6H2', 'zf-H2C2_2']\n",
        "gap_allowed = 2500 #@param {type:\"integer\"}\n",
        "max_bgc_gap = 15000 #@param {type:\"integer\"}\n",
        "min_prot_len = 200 #@param {type:\"integer\"}\n",
        "num_of_genes_checked = 20 #@param {type:\"integer\"}\n",
        "min_identity = 50 #@param {type:\"integer\"}"
      ],
      "metadata": {
        "cellView": "form",
        "id": "T0DJuPWow2Ed"
      },
      "execution_count": null,
      "outputs": []
    },
    {
      "cell_type": "code",
      "source": [
        "#@title Install dependencies\n",
        "!sudo apt-get install hmmer diamond-aligner\n",
        "!pip install biopython"
      ],
      "metadata": {
        "cellView": "form",
        "id": "um2ou0yLLBJ_"
      },
      "execution_count": null,
      "outputs": []
    },
    {
      "cell_type": "code",
      "source": [
        "#@title Extract BGCs\n",
        "import os\n",
        "import sys\n",
        "from funbgcex.BGCeXtractor import BGCeXtractor\n",
        "\n",
        "\"\"\"\n",
        "Accept input file\n",
        "\"\"\"\n",
        "current_dir = \"/content/drive/MyDrive/Colab Notebooks/funbgcex\"\n",
        "\n",
        "\n",
        "if os.path.isdir(gbk_dir) == False:\n",
        "    sys.exit(\"The input directory does not exist.\")\n",
        "if mode == \"all\":\n",
        "    query = \"none\"\n",
        "elif mode == \"target\":\n",
        "    query = fasta\n",
        "    if os.path.isfile(query) == False:\n",
        "        sys.exit(\"The fasta file does not exist.\")\n",
        "    if query == \"none\":\n",
        "        sys.exit(\"Please provide a fasta file.\")\n",
        "elif mode == \"pfam\":\n",
        "    PfamList = []\n",
        "    allHMM = f\"{current_dir}/data/hmm/fungalSM/fungalSM.hmm\"\n",
        "    with open(allHMM,\"r\") as hmm:\n",
        "        for line in hmm:\n",
        "            if line.startswith(\"NAME\"):\n",
        "                name = line.split(\" \")[-1].replace(\"\\n\",\"\")\n",
        "                PfamList.append(name)\n",
        "    query = pfam\n",
        "    if query not in PfamList:\n",
        "        if query != \"none\":\n",
        "            print(f\"{query} does not exist in the database.\")\n",
        "            ToBeContinued = True\n",
        "            while ToBeContinued:\n",
        "                answer = input(\"Do you want to check the available protein family names? y/n: \")\n",
        "                if answer == \"Y\" or answer == \"y\":\n",
        "                    print(PfamList)\n",
        "                    ToBeContinued = False\n",
        "                    sys.exit()\n",
        "                elif answer == \"N\" or answer == \"n\":\n",
        "                    ToBeContinued = False\n",
        "                else:\n",
        "                    pass\n",
        "            sys.exit()\n",
        "        else:\n",
        "            sys.exit(\"Please provide the name of a protein family to be used for BGC extraction.\")\n",
        "else:\n",
        "    sys.exit(\"Please choose 'all', 'target', or 'pfam' as an extraction mode.\")\n",
        "\n",
        "\"\"\"\n",
        "Start BGC extraction\n",
        "\"\"\"\n",
        "BGCeXtractor(gbk_dir,results_dir,mode,query,gap_allowed,max_bgc_gap,min_prot_len,num_of_genes_checked,min_identity)\n",
        "\n"
      ],
      "metadata": {
        "id": "qbYzxjDlyMCk"
      },
      "execution_count": null,
      "outputs": []
    },
    {
      "cell_type": "code",
      "source": [
        "#@title Download results\n",
        "import shutil\n",
        "from google.colab import files\n",
        "\n",
        "shutil.make_archive(\"/content/results\", 'zip', results_dir)\n",
        "files.download(\"/content/results.zip\")"
      ],
      "metadata": {
        "colab": {
          "base_uri": "https://localhost:8080/",
          "height": 17
        },
        "id": "YHHSUKW_2wNb",
        "outputId": "9f8f8e30-d89e-4137-e9a8-d696ffa28a6e"
      },
      "execution_count": null,
      "outputs": [
        {
          "output_type": "display_data",
          "data": {
            "text/plain": [
              "<IPython.core.display.Javascript object>"
            ],
            "application/javascript": [
              "\n",
              "    async function download(id, filename, size) {\n",
              "      if (!google.colab.kernel.accessAllowed) {\n",
              "        return;\n",
              "      }\n",
              "      const div = document.createElement('div');\n",
              "      const label = document.createElement('label');\n",
              "      label.textContent = `Downloading \"${filename}\": `;\n",
              "      div.appendChild(label);\n",
              "      const progress = document.createElement('progress');\n",
              "      progress.max = size;\n",
              "      div.appendChild(progress);\n",
              "      document.body.appendChild(div);\n",
              "\n",
              "      const buffers = [];\n",
              "      let downloaded = 0;\n",
              "\n",
              "      const channel = await google.colab.kernel.comms.open(id);\n",
              "      // Send a message to notify the kernel that we're ready.\n",
              "      channel.send({})\n",
              "\n",
              "      for await (const message of channel.messages) {\n",
              "        // Send a message to notify the kernel that we're ready.\n",
              "        channel.send({})\n",
              "        if (message.buffers) {\n",
              "          for (const buffer of message.buffers) {\n",
              "            buffers.push(buffer);\n",
              "            downloaded += buffer.byteLength;\n",
              "            progress.value = downloaded;\n",
              "          }\n",
              "        }\n",
              "      }\n",
              "      const blob = new Blob(buffers, {type: 'application/binary'});\n",
              "      const a = document.createElement('a');\n",
              "      a.href = window.URL.createObjectURL(blob);\n",
              "      a.download = filename;\n",
              "      div.appendChild(a);\n",
              "      a.click();\n",
              "      div.remove();\n",
              "    }\n",
              "  "
            ]
          },
          "metadata": {}
        },
        {
          "output_type": "display_data",
          "data": {
            "text/plain": [
              "<IPython.core.display.Javascript object>"
            ],
            "application/javascript": [
              "download(\"download_d3b8f736-3c64-42ae-969f-f0b91e441e46\", \"results.zip\", 7450438)"
            ]
          },
          "metadata": {}
        }
      ]
    },
    {
      "cell_type": "markdown",
      "source": [],
      "metadata": {
        "id": "3TYvM043bVYa"
      }
    }
  ]
}